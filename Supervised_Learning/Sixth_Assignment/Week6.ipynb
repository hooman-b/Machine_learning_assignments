{
 "cells": [
  {
   "cell_type": "markdown",
   "metadata": {},
   "source": [
    "# Portfolio assignment week 6\n",
    "\n",
    "## 1. Decision Trees and Naive bayes\n",
    "The scikit-learn library provides different parameters for decision trees and naive bayes. \n",
    "\n",
    "Based on the last code example [in the accompanying notebook](../Exercises/E_DT_NB.ipynb), add several new models to the `classifiers` variable. These models should have different parameters. For instance, create a new decision tree with a max depth of 1. Another possibility is to add different datasets or add noise.\n",
    "\n",
    "Try to understand why some models behave differently than others. Give arguments what influences model performance and why.\n",
    "\n",
    "## 2. Decision Tree Evaluation\n",
    "As shown in the [in the accompanying notebook](../Exercises/E_DT_NB.ipynb) it is possible to visualize the decision tree. \n",
    "\n",
    "For this exercise, you can use your own dataset if that is eligable for supervised classification. Otherwise, you can use the [breast cancer dataset](https://www.kaggle.com/datasets/yasserh/breast-cancer-dataset) which you can find on assemblix2019 (`/data/datasets/DS3/`). Go through the data science pipeline as you've done before:\n",
    "\n",
    "1. Try to understand the dataset globally.\n",
    "2. Load the data.\n",
    "3. Exploratory analysis\n",
    "4. Preprocess data (skewness, normality, etc.)\n",
    "5. Modeling (cross-validation and training)\n",
    "6. Evaluation\n",
    "7. **Explanation**\n",
    "\n",
    "Explain how the decision tree behaves under certain circumstances. What features seem important and how are the decisions made?\n",
    "\n",
    "## 3. Naive Bayes \n",
    "\n",
    "During the Corona pandemic, seven roommates in a student house did a Corona test. The table below show the data of these students: whether they experiences shivers, had a running nose, or had a headache. The test result is also shown.\n",
    "\n",
    "Roommate | shivers | running nose | headache | test result\n",
    "--|--|--|--|--\n",
    "1 | Y | N | No | Negative\n",
    "2 | N | N | Mild | Negative\n",
    "3 | Y | Y | No | Positive\n",
    "4 | N | Y | No | Negative\n",
    "5 | N | N | Heavy | Positive\n",
    "6 | Y | N | No | Negative\n",
    "7 | Y | Y | Mild | Positive\n",
    "\n",
    "Explain why it is not useful to include the column 'Roommate' in a classification procedure.\n",
    "\n",
    "Train a [Categorical Naive Bayes](https://scikit-learn.org/stable/modules/generated/sklearn.naive_bayes.CategoricalNB.html) classifier on this dataset, where the Test Results are your classes and the other features the data. For this to work, you'll need [Pandas `get_dummies`](https://pandas.pydata.org/pandas-docs/stable/reference/api/pandas.get_dummies.html) to transform the nominal data into something that sklearn can work with. Use all seven rows in your training.\n",
    "\n",
    "If you let your fitted classifier predict the test results (based on all the data), you will (hopefully) see that the prediction for observation number 5 (1-based) is wrong (it predicts Negative while the actual value is Positive). Show by manual calculation that the prediction for this instance is indeed higher ($p=0.527$) for the Negative class than for the Positive class.\n"
   ]
  }
 ],
 "metadata": {
  "kernelspec": {
   "display_name": "base",
   "language": "python",
   "name": "python3"
  },
  "language_info": {
   "codemirror_mode": {
    "name": "ipython",
    "version": 3
   },
   "file_extension": ".py",
   "mimetype": "text/x-python",
   "name": "python",
   "nbconvert_exporter": "python",
   "pygments_lexer": "ipython3",
   "version": "3.9.13"
  },
  "orig_nbformat": 4
 },
 "nbformat": 4,
 "nbformat_minor": 2
}
