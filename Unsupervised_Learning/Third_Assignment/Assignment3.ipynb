{
 "cells": [
  {
   "attachments": {},
   "cell_type": "markdown",
   "metadata": {},
   "source": [
    "## Portfolio Assignment week 03\n",
    "\n",
    "This week's focus is on anomaly detection. As part of the portfolio assignment, you are required to make a contribution using anomaly detection algorithm(s). There are several options for your contribution, so you can choose the one that aligns with your learning style or interests the most\n",
    "\n",
    "## Anomaly Detection\n",
    "\n",
    "Anomaly detection in machine learning refers to the process of identifying patterns or instances in a dataset that deviate significantly from the norm or expected behavior. Anomalies, also known as outliers, are data points that are rare, unusual, or don't conform to the typical patterns observed in the majority of the data. Anomaly detection algorithms aim to automatically detect these anomalies. Anomaly detection in machine learning has various applications across domains, including predictive maintenance, and healthcare monitoring. By automatically identifying anomalies, these algorithms help in detecting potential risks. \n",
    "\n",
    "\n",
    "## Anomaly Detection Assignment\n",
    "\n",
    "Study the notebook `Study_Case_Anomoly_Detection` \n",
    "\n",
    "Choose at least 1 out of the listed assignments below\n",
    "\n",
    "- Analyze the end result plot to evaluate the algorithm's performance. Look for anomalies identified by the algorithm and compare them to known anomalies or instances of abnormal behavior in the data. Assess whether the algorithm successfully captures these anomalies and if it shows promising results in detecting abnormal patterns. Based on the plot analysis, provide argumentation for the validity of the anomaly detection algorithm hypothesis (see above). Discuss how the algorithm effectively captures anomalies in the time series data and why it is a suitable approach for the use case. Support your argument with references to relevant literature that discuss the effectiveness of the chosen algorithm or similar algorithms in detecting anomalies in time series data.\n",
    "- To improve data quality for anomaly detection in time series data, we can focus on removing outliers due to sensor reading errors while preserving anomalies. Additionally, performing resampling or aggregation can help reduce noise and highlight higher-level patterns relevant for anomaly detection. Find common steps to improve data quality for this particular use and implement those. Evaluate the performance of the algorithms compare to the original notebook.\n",
    "- Try another algorithm that has not been tested in the notebook. Provide argumentation for the validity of the anomaly detection algorithm you choose.\n",
    "- Try to find the best configuration for one of the tested algorithms\n",
    "- Try anomaly detection on a different dataset without timeseries data. Intrepret the results\n",
    "\n",
    "Do not forget to reference sources!"
   ]
  },
  {
   "attachments": {},
   "cell_type": "markdown",
   "metadata": {},
   "source": [
    "Anomaly Detection (Isoliation Forest, LOF, DBSCAN): https://www.youtube.com/watch?v=OS9xRGKfx4E\n",
    "\n",
    "Robust Methods: https://www.youtube.com/watch?v=PaRZge3njm4, https://scikit-learn.org/stable/auto_examples/covariance/plot_mahalanobis_distances.html\n",
    "\n",
    "Bias/Variance: https://www.youtube.com/watch?v=EuBBz3bI-aA\n",
    "\n",
    "Support Vector Machine: https://www.youtube.com/watch?v=efR1C6CvhmE\n",
    "\n",
    "Anomaly and Time Series: https://www.youtube.com/watch?v=XPwCo4cqqt0\n",
    "\n",
    "medium link: https://towardsdatascience.com/effective-approaches-for-time-series-anomaly-detection-9485b40077f1"
   ]
  }
 ],
 "metadata": {
  "language_info": {
   "name": "python"
  },
  "orig_nbformat": 4
 },
 "nbformat": 4,
 "nbformat_minor": 2
}
